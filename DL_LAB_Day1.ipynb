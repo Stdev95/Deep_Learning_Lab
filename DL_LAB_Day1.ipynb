{
 "cells": [
  {
   "cell_type": "code",
   "execution_count": null,
   "metadata": {},
   "outputs": [],
   "source": [
    "a = input(\"Enter the String to Print\")\n",
    "print(a)"
   ]
  },
  {
   "cell_type": "code",
   "execution_count": 2,
   "metadata": {},
   "outputs": [
    {
     "name": "stdout",
     "output_type": "stream",
     "text": [
      "William Shakespeare (bapt. 26 April 1564 – 23 April 1616)[a] was an English poet, playwright, and actor, widely regarded as the greatest writer in the English language and the world's greatest dramatist.[2][3][4] He is often called England's national poet and the \"Bard of Avon\" (or simply \"the Bard\").[5][b] His extant works, including collaborations, consist of some 39 plays,[c] 154 sonnets, two long narrative poems, and a few other verses, some of uncertain authorship. His plays have been translated into every major living language and are performed more often than those of any other playwright.[7]\n"
     ]
    }
   ],
   "source": [
    "a ='''William Shakespeare (bapt. 26 April 1564 – 23 April 1616)[a] was an English poet, playwright, and actor, widely regarded as the greatest writer in the English language and the world's greatest dramatist.[2][3][4] He is often called England's national poet and the \"Bard of Avon\" (or simply \"the Bard\").[5][b] His extant works, including collaborations, consist of some 39 plays,[c] 154 sonnets, two long narrative poems, and a few other verses, some of uncertain authorship. His plays have been translated into every major living language and are performed more often than those of any other playwright.[7]'''\n",
    "print(a)"
   ]
  },
  {
   "cell_type": "code",
   "execution_count": 1,
   "metadata": {},
   "outputs": [
    {
     "name": "stdout",
     "output_type": "stream",
     "text": [
      "William Shakespeare (bapt. 26 April 1564 – 23 April 1616)[a] was an English poet, playwright, and actor, widely regarded as the greatest writer in the English language and the world's greatest dramatist.[2][3][4] He is often called England's national poet and the \"Bard of Avon\" (or simply \"the Bard\").[5][b] His extant works, including collaborations, consist of some 39 plays,[c] 154 sonnets, two long narrative poems, and a few other verses, some of uncertain authorship. His plays have been translated into every major living language and are performed more often than those of any other playwright.[7]\n"
     ]
    }
   ],
   "source": [
    "a =\"\"\"William Shakespeare (bapt. 26 April 1564 – 23 April 1616)[a] was an English poet, playwright, and actor, widely regarded as the greatest writer in the English language and the world's greatest dramatist.[2][3][4] He is often called England's national poet and the \"Bard of Avon\" (or simply \"the Bard\").[5][b] His extant works, including collaborations, consist of some 39 plays,[c] 154 sonnets, two long narrative poems, and a few other verses, some of uncertain authorship. His plays have been translated into every major living language and are performed more often than those of any other playwright.[7]\"\"\"\n",
    "print(a)"
   ]
  },
  {
   "cell_type": "code",
   "execution_count": 7,
   "metadata": {},
   "outputs": [
    {
     "name": "stdout",
     "output_type": "stream",
     "text": [
      "Shakespeare gave the best theatrics to the world\n"
     ]
    }
   ],
   "source": [
    "a = \"Shakespeare gave the best theatrics to the world\"\n",
    "print(a)"
   ]
  },
  {
   "cell_type": "code",
   "execution_count": 3,
   "metadata": {
    "scrolled": true
   },
   "outputs": [
    {
     "name": "stdout",
     "output_type": "stream",
     "text": [
      "['Berlin', 'Rome', 'Paris', 'Podgorica', 'Athens', 'Chisinau', 'Ljubljana', 'Minsk', 'Monaco', 'Moscow']\n"
     ]
    }
   ],
   "source": [
    "list = [\"Berlin\",\"Rome\",\"Paris\",\"Podgorica\",\"Athens\",\"Chisinau\",\"Ljubljana\",\"Minsk\",\"Monaco\",\"Moscow\"]\n",
    "print(list)"
   ]
  },
  {
   "cell_type": "code",
   "execution_count": 4,
   "metadata": {},
   "outputs": [
    {
     "name": "stdout",
     "output_type": "stream",
     "text": [
      "Athens\n"
     ]
    }
   ],
   "source": [
    "list = [\"Berlin\",\"Rome\",\"Paris\",\"Podgorica\",\"Athens\",\"Chisinau\",\"Ljubljana\",\"Minsk\",\"Monaco\",\"Moscow\"]\n",
    "print(list[4])"
   ]
  },
  {
   "cell_type": "code",
   "execution_count": 5,
   "metadata": {},
   "outputs": [
    {
     "name": "stdout",
     "output_type": "stream",
     "text": [
      "['Berlin', 'Rome', 'Paris', 'Podgorica', 'Athens', 'Chisinau', 'Ljubljana', 'Minsk', 'Monaco', 'Moscow', 'Tirana ']\n"
     ]
    }
   ],
   "source": [
    "list = [\"Berlin\",\"Rome\",\"Paris\",\"Podgorica\",\"Athens\",\"Chisinau\",\"Ljubljana\",\"Minsk\",\"Monaco\",\"Moscow\"]\n",
    "list.append(\"Tirana \")\n",
    "print(list)"
   ]
  },
  {
   "cell_type": "code",
   "execution_count": 1,
   "metadata": {},
   "outputs": [
    {
     "name": "stdout",
     "output_type": "stream",
     "text": [
      "['Berlin', 'Rome', 'Paris', 'Podgorica', 'Athens', 'Chisinau', 'Ljubljana', 'Minsk', 'Monaco', 'Moscow']\n",
      "['Berlin', 'Rome', 'Paris', 'Podgorica', 'Athens', 'Chisinau', 'Ljubljana', 'Minsk', 'Monaco', 'Moscow']\n",
      "['Berlin', 'Rome', 'Paris', 'Podgorica', 'Athens', 'Chisinau', 'Ljubljana', 'Minsk', 'Monaco', 'Moscow']\n",
      "['Berlin', 'Rome', 'Paris', 'Podgorica', 'Athens', 'Chisinau', 'Ljubljana', 'Minsk', 'Monaco', 'Moscow']\n",
      "['Berlin', 'Rome', 'Paris', 'Podgorica', 'Athens', 'Chisinau', 'Ljubljana', 'Minsk', 'Monaco', 'Moscow']\n",
      "['Berlin', 'Rome', 'Paris', 'Podgorica', 'Athens', 'Chisinau', 'Ljubljana', 'Minsk', 'Monaco', 'Moscow']\n",
      "['Berlin', 'Rome', 'Paris', 'Podgorica', 'Athens', 'Chisinau', 'Ljubljana', 'Minsk', 'Monaco', 'Moscow']\n",
      "['Berlin', 'Rome', 'Paris', 'Podgorica', 'Athens', 'Chisinau', 'Ljubljana', 'Minsk', 'Monaco', 'Moscow']\n",
      "['Berlin', 'Rome', 'Paris', 'Podgorica', 'Athens', 'Chisinau', 'Ljubljana', 'Minsk', 'Monaco', 'Moscow']\n",
      "['Berlin', 'Rome', 'Paris', 'Podgorica', 'Athens', 'Chisinau', 'Ljubljana', 'Minsk', 'Monaco', 'Moscow']\n"
     ]
    }
   ],
   "source": [
    "list = [\"Berlin\",\"Rome\",\"Paris\",\"Podgorica\",\"Athens\",\"Chisinau\",\"Ljubljana\",\"Minsk\",\"Monaco\",\"Moscow\"]\n",
    "for i in list:\n",
    "    print(list)"
   ]
  },
  {
   "cell_type": "code",
   "execution_count": 3,
   "metadata": {},
   "outputs": [
    {
     "name": "stdout",
     "output_type": "stream",
     "text": [
      "['Mumbai', 'Pune']\n"
     ]
    }
   ],
   "source": [
    "list_new = [\"Mumbai\",\"Pune\"]\n",
    "print(list_new)"
   ]
  },
  {
   "cell_type": "code",
   "execution_count": 4,
   "metadata": {},
   "outputs": [
    {
     "name": "stdout",
     "output_type": "stream",
     "text": [
      "['Berlin', 'Rome', 'Paris', 'Podgorica', 'Athens', 'Chisinau', 'Ljubljana', 'Minsk', 'Monaco', 'Moscow']\n",
      "['Berlin', 'Rome', 'Paris', 'Podgorica', 'Athens', 'Chisinau', 'Ljubljana', 'Minsk', 'Monaco', 'Moscow', ['Mumbai', 'Pune']]\n"
     ]
    }
   ],
   "source": [
    "print(list)  #printing list before appending new list\n",
    "list.append(list_new)\n",
    "print(list)  #printing list after appending new list"
   ]
  },
  {
   "cell_type": "code",
   "execution_count": 5,
   "metadata": {},
   "outputs": [
    {
     "data": {
      "text/plain": [
       "['Berlin',\n",
       " 'Rome',\n",
       " 'Paris',\n",
       " 'Podgorica',\n",
       " 'Athens',\n",
       " 'Chisinau',\n",
       " 'Ljubljana',\n",
       " 'Minsk',\n",
       " 'Monaco',\n",
       " 'Moscow',\n",
       " ['Mumbai', 'Pune'],\n",
       " 'Mumbai',\n",
       " 'Pune']"
      ]
     },
     "execution_count": 5,
     "metadata": {},
     "output_type": "execute_result"
    }
   ],
   "source": [
    "list+list_new"
   ]
  },
  {
   "cell_type": "code",
   "execution_count": 13,
   "metadata": {},
   "outputs": [
    {
     "name": "stdout",
     "output_type": "stream",
     "text": [
      "Yes! Present\n"
     ]
    }
   ],
   "source": [
    "if \"Monaco\" in list:\n",
    "    print(\"Yes! Present\")"
   ]
  },
  {
   "cell_type": "code",
   "execution_count": 6,
   "metadata": {},
   "outputs": [
    {
     "data": {
      "text/plain": [
       "('Berlin',\n",
       " 'Rome',\n",
       " 'Paris',\n",
       " 'Podgorica',\n",
       " 'Athens',\n",
       " 'Chisinau',\n",
       " 'Ljubljana',\n",
       " 'Minsk',\n",
       " 'Monaco',\n",
       " 'Moscow',\n",
       " ['Mumbai', 'Pune'])"
      ]
     },
     "execution_count": 6,
     "metadata": {},
     "output_type": "execute_result"
    }
   ],
   "source": [
    "tuple(list)"
   ]
  },
  {
   "cell_type": "code",
   "execution_count": 9,
   "metadata": {},
   "outputs": [
    {
     "name": "stdout",
     "output_type": "stream",
     "text": [
      "{'badminton': 'saina nehwal', 'boxing': 'mary kom', 'cricketer': 'mithali raj', 'tennis': 'roger federer'}\n"
     ]
    }
   ],
   "source": [
    "dict={\"badminton\":\"saina nehwal\",\"boxing\":\"mary kom\",\"cricketer\":\"mithali raj\",\"tennis\":\"roger federer\"}\n",
    "print(dict)"
   ]
  },
  {
   "cell_type": "code",
   "execution_count": 14,
   "metadata": {},
   "outputs": [
    {
     "name": "stdout",
     "output_type": "stream",
     "text": [
      "saina nehwal\n"
     ]
    }
   ],
   "source": [
    "print(dict[\"badminton\"])"
   ]
  },
  {
   "cell_type": "code",
   "execution_count": 15,
   "metadata": {},
   "outputs": [
    {
     "name": "stdout",
     "output_type": "stream",
     "text": [
      "{'badminton': 'saina nehwal', 'boxing': 'mary kom', 'cricketer': 'Mithali Raj', 'tennis': 'roger federer'}\n"
     ]
    }
   ],
   "source": [
    "dict[\"cricketer\"] = \"Mithali Raj\"\n",
    "print(dict)"
   ]
  },
  {
   "cell_type": "code",
   "execution_count": 16,
   "metadata": {},
   "outputs": [
    {
     "name": "stdout",
     "output_type": "stream",
     "text": [
      "saina nehwal\n",
      "mary kom\n",
      "Mithali Raj\n",
      "roger federer\n"
     ]
    }
   ],
   "source": [
    "for x in dict:\n",
    "  print(dict[x])"
   ]
  },
  {
   "cell_type": "code",
   "execution_count": 17,
   "metadata": {},
   "outputs": [
    {
     "name": "stdout",
     "output_type": "stream",
     "text": [
      "('apple', 'banana', 'cherry', 'Mango', 'Grapes')\n"
     ]
    }
   ],
   "source": [
    "tuple = (\"apple\", \"banana\", \"cherry\", \"Mango\", \"Grapes\")\n",
    "print(tuple)"
   ]
  },
  {
   "cell_type": "code",
   "execution_count": 18,
   "metadata": {},
   "outputs": [
    {
     "name": "stdout",
     "output_type": "stream",
     "text": [
      "cherry\n"
     ]
    }
   ],
   "source": [
    "print(tuple[2])   #Positive Index"
   ]
  },
  {
   "cell_type": "code",
   "execution_count": 19,
   "metadata": {},
   "outputs": [
    {
     "name": "stdout",
     "output_type": "stream",
     "text": [
      "Grapes\n"
     ]
    }
   ],
   "source": [
    "print(tuple[-1])  #negative Index"
   ]
  },
  {
   "cell_type": "code",
   "execution_count": 20,
   "metadata": {},
   "outputs": [
    {
     "name": "stdout",
     "output_type": "stream",
     "text": [
      "('cherry', 'Mango', 'Grapes')\n"
     ]
    }
   ],
   "source": [
    "#printing tuple values in Range\n",
    "print(tuple[2:5])"
   ]
  },
  {
   "cell_type": "code",
   "execution_count": 21,
   "metadata": {},
   "outputs": [
    {
     "name": "stdout",
     "output_type": "stream",
     "text": [
      "(104, 107, 107, 216, 407)\n"
     ]
    }
   ],
   "source": [
    "t=104,107,107,216,407\n",
    "print(t)"
   ]
  },
  {
   "cell_type": "code",
   "execution_count": null,
   "metadata": {},
   "outputs": [],
   "source": [
    "\n"
   ]
  },
  {
   "cell_type": "code",
   "execution_count": null,
   "metadata": {},
   "outputs": [],
   "source": []
  }
 ],
 "metadata": {
  "kernelspec": {
   "display_name": "Python 3",
   "language": "python",
   "name": "python3"
  },
  "language_info": {
   "codemirror_mode": {
    "name": "ipython",
    "version": 3
   },
   "file_extension": ".py",
   "mimetype": "text/x-python",
   "name": "python",
   "nbconvert_exporter": "python",
   "pygments_lexer": "ipython3",
   "version": "3.7.4"
  }
 },
 "nbformat": 4,
 "nbformat_minor": 2
}
